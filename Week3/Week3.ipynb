{
  "cells": [
    {
      "cell_type": "markdown",
      "metadata": {
        "id": "o4BQVnaAHC4F"
      },
      "source": [
        "## Working with Tensorflow\n",
        "In this assignment, you will be familiarized with the usage of the tensorflow library and how to build a model for the MNIST database in two ways\n",
        "*   using the inbuilt layers in tensorflow\n",
        "*   using custom layers to replicate the same result\n",
        "\n"
      ]
    },
    {
      "cell_type": "code",
      "execution_count": 2,
      "metadata": {
        "id": "Co1Y3oSoAqHp"
      },
      "outputs": [],
      "source": [
        "import tensorflow as tf\n",
        "from tensorflow.keras.datasets import mnist\n",
        "from tensorflow.keras.models import Sequential\n",
        "import matplotlib.pyplot as plt\n",
        "from tensorflow.keras.layers import Dense, Flatten\n",
        "from tensorflow.keras.utils import to_categorical"
      ]
    },
    {
      "cell_type": "markdown",
      "metadata": {
        "id": "n682ZxROHh_1"
      },
      "source": [
        "## Loading and preprocessing the Data\n",
        "We will directly be using the dataset included in tensorflow library\n",
        "A detailed description of data is given at (https://www.tensorflow.org/api_docs/python/tf/keras/datasets/mnist/load_data)\n"
      ]
    },
    {
      "cell_type": "code",
      "execution_count": 3,
      "metadata": {
        "id": "8zrkUXY8AvtN"
      },
      "outputs": [
        {
          "name": "stdout",
          "output_type": "stream",
          "text": [
            "Downloading data from https://storage.googleapis.com/tensorflow/tf-keras-datasets/mnist.npz\n",
            "\u001b[1m11490434/11490434\u001b[0m \u001b[32m━━━━━━━━━━━━━━━━━━━━\u001b[0m\u001b[37m\u001b[0m \u001b[1m34s\u001b[0m 3us/step\n"
          ]
        }
      ],
      "source": [
        "# Load the MNIST dataset\n",
        "(x_train, y_train), (x_test, y_test) = mnist.load_data()\n",
        "\n",
        "# Preprocess the data\n",
        "x_train = x_train / 255.0\n",
        "x_test = x_test / 255.0\n",
        "y_train = to_categorical(y_train, 10)\n",
        "y_test = to_categorical(y_test, 10)"
      ]
    },
    {
      "cell_type": "markdown",
      "metadata": {
        "id": "4NZRlpvMIDxs"
      },
      "source": [
        "Heres how the data looks"
      ]
    },
    {
      "cell_type": "code",
      "execution_count": 14,
      "metadata": {
        "colab": {
          "base_uri": "https://localhost:8080/",
          "height": 447
        },
        "id": "9jFXtFL4FH2x",
        "outputId": "8b9450bc-0e10-4776-a8a1-1dea5cac909d"
      },
      "outputs": [
        {
          "data": {
            "text/plain": [
              "<matplotlib.image.AxesImage at 0x216295dc8f0>"
            ]
          },
          "execution_count": 14,
          "metadata": {},
          "output_type": "execute_result"
        },
        {
          "data": {
            "image/png": "[encoded data removed]",
            "text/plain": [
              "<Figure size 640x480 with 1 Axes>"
            ]
          },
          "metadata": {},
          "output_type": "display_data"
        }
      ],
      "source": [
        "plt.imshow(x_train[3],cmap= 'Greys')"
      ]
    },
    {
      "cell_type": "code",
      "execution_count": 15,
      "metadata": {
        "colab": {
          "base_uri": "https://localhost:8080/"
        },
        "id": "y2loSsKCGScS",
        "outputId": "8b6ec3ab-0458-4175-903d-37619b48b848"
      },
      "outputs": [
        {
          "data": {
            "text/plain": [
              "array([0., 1., 0., 0., 0., 0., 0., 0., 0., 0.])"
            ]
          },
          "execution_count": 15,
          "metadata": {},
          "output_type": "execute_result"
        }
      ],
      "source": [
        "y_train[3]"
      ]
    },
    {
      "cell_type": "code",
      "execution_count": 6,
      "metadata": {
        "colab": {
          "base_uri": "https://localhost:8080/",
          "height": 447
        },
        "id": "-VO0bDzWGN0z",
        "outputId": "4ac2e0d4-a1ce-4a49-cfcc-ce474d8b3d1a"
      },
      "outputs": [
        {
          "data": {
            "text/plain": [
              "<matplotlib.image.AxesImage at 0x2162342cd10>"
            ]
          },
          "execution_count": 6,
          "metadata": {},
          "output_type": "execute_result"
        },
        {
          "data": {
            "image/png": "[encoded data removed]",
            "text/plain": [
              "<Figure size 640x480 with 1 Axes>"
            ]
          },
          "metadata": {},
          "output_type": "display_data"
        }
      ],
      "source": [
        "plt.imshow(x_train[1],cmap= 'Greys')"
      ]
    },
    {
      "cell_type": "code",
      "execution_count": 7,
      "metadata": {
        "colab": {
          "base_uri": "https://localhost:8080/",
          "height": 447
        },
        "id": "WmwFY7-9GP_-",
        "outputId": "0ae5cd81-0404-4b53-a1cb-c3459d7edd8b"
      },
      "outputs": [
        {
          "data": {
            "text/plain": [
              "<matplotlib.image.AxesImage at 0x21623404ef0>"
            ]
          },
          "execution_count": 7,
          "metadata": {},
          "output_type": "execute_result"
        },
        {
          "data": {
            "image/png": "[encoded data removed]",
            "text/plain": [
              "<Figure size 640x480 with 1 Axes>"
            ]
          },
          "metadata": {},
          "output_type": "display_data"
        }
      ],
      "source": [
        "plt.imshow(x_train[2],cmap= 'Greys')"
      ]
    },
    {
      "cell_type": "markdown",
      "metadata": {
        "id": "d6W4VEerGYJ8"
      },
      "source": [
        "# Making a simple feedforward network\n",
        "As you have seen in the second week a simple feedfordward network works well to solve MNIST.<br/>\n",
        "The following is a simple feedforward model with three layers:\n",
        "* a flatten layer to convert our 28x28 images into a single array of length 784\n",
        "* a dense layer of 128 neurons with the relu activation function\n",
        "* finally a dense layer of 10 neurons with the softmax activation to get a distribution between the digits"
      ]
    },
    {
      "cell_type": "code",
      "execution_count": 8,
      "metadata": {
        "colab": {
          "base_uri": "https://localhost:8080/"
        },
        "id": "zwFnJsE6vjf8",
        "outputId": "ac06dbd4-9873-4366-d212-8d784b6eab77"
      },
      "outputs": [
        {
          "name": "stderr",
          "output_type": "stream",
          "text": [
            "c:\\Users\\shaas\\tf_env\\Lib\\site-packages\\keras\\src\\layers\\reshaping\\flatten.py:37: UserWarning: Do not pass an `input_shape`/`input_dim` argument to a layer. When using Sequential models, prefer using an `Input(shape)` object as the first layer in the model instead.\n",
            "  super().__init__(**kwargs)\n"
          ]
        },
        {
          "name": "stdout",
          "output_type": "stream",
          "text": [
            "Epoch 1/5\n",
            "\u001b[1m1500/1500\u001b[0m \u001b[32m━━━━━━━━━━━━━━━━━━━━\u001b[0m\u001b[37m\u001b[0m \u001b[1m3s\u001b[0m 2ms/step - accuracy: 0.8652 - loss: 0.4862 - val_accuracy: 0.9528 - val_loss: 0.1615\n",
            "Epoch 2/5\n",
            "\u001b[1m1500/1500\u001b[0m \u001b[32m━━━━━━━━━━━━━━━━━━━━\u001b[0m\u001b[37m\u001b[0m \u001b[1m2s\u001b[0m 1ms/step - accuracy: 0.9601 - loss: 0.1353 - val_accuracy: 0.9625 - val_loss: 0.1237\n",
            "Epoch 3/5\n",
            "\u001b[1m1500/1500\u001b[0m \u001b[32m━━━━━━━━━━━━━━━━━━━━\u001b[0m\u001b[37m\u001b[0m \u001b[1m2s\u001b[0m 1ms/step - accuracy: 0.9727 - loss: 0.0920 - val_accuracy: 0.9699 - val_loss: 0.1032\n",
            "Epoch 4/5\n",
            "\u001b[1m1500/1500\u001b[0m \u001b[32m━━━━━━━━━━━━━━━━━━━━\u001b[0m\u001b[37m\u001b[0m \u001b[1m2s\u001b[0m 1ms/step - accuracy: 0.9797 - loss: 0.0672 - val_accuracy: 0.9703 - val_loss: 0.1042\n",
            "Epoch 5/5\n",
            "\u001b[1m1500/1500\u001b[0m \u001b[32m━━━━━━━━━━━━━━━━━━━━\u001b[0m\u001b[37m\u001b[0m \u001b[1m2s\u001b[0m 2ms/step - accuracy: 0.9854 - loss: 0.0506 - val_accuracy: 0.9684 - val_loss: 0.0993\n",
            "\u001b[1m313/313\u001b[0m \u001b[32m━━━━━━━━━━━━━━━━━━━━\u001b[0m\u001b[37m\u001b[0m \u001b[1m0s\u001b[0m 1ms/step - accuracy: 0.9684 - loss: 0.0998\n",
            "Test accuracy: 0.9742000102996826\n"
          ]
        }
      ],
      "source": [
        "# Build the model\n",
        "model = Sequential([\n",
        "    Flatten(input_shape=(28, 28)),\n",
        "    Dense(128, activation='relu'),\n",
        "    Dense(10, activation='softmax')\n",
        "])\n",
        "\n",
        "# Compile the model\n",
        "model.compile(optimizer='adam',loss='categorical_crossentropy',metrics=['accuracy'])\n",
        "\n",
        "# Train the model\n",
        "model.fit(x_train, y_train, epochs=5, batch_size=32, validation_split=0.2)\n",
        "\n",
        "# Evaluate the model\n",
        "test_loss, test_acc = model.evaluate(x_test, y_test)\n",
        "print(f'Test accuracy: {test_acc}')"
      ]
    },
    {
      "cell_type": "markdown",
      "metadata": {
        "id": "m7yTvXD_JBq2"
      },
      "source": [
        "## Making Custom Layers\n",
        "You can go through this\n",
        "<a href = 'https://www.tensorflow.org/tutorials/customization/custom_layers'> documentation </a> to get a feel for how to implement a custom layer\n",
        "\n",
        "* Create a CustomDenseLayer with a Relu Activation\n",
        "* Create a CustomDenseLayer with a Softmax Activation\n",
        "* Create a CustomFlatten Layer\n",
        "\n",
        "Altough we have provided solutions in the Next Cell Try to figure this out on your own.\n"
      ]
    },
    {
      "cell_type": "code",
      "execution_count": 10,
      "metadata": {
        "id": "7wtMoyyNK-FZ"
      },
      "outputs": [],
      "source": [
        "class CustomDenseReluLayer(tf.keras.layers.Layer):\n",
        "    def __init__(self, units):\n",
        "        super(CustomDenseReluLayer, self).__init__()\n",
        "        #TODO\n",
        "\n",
        "    def build(self, input_shape):\n",
        "        #TODO\n",
        "        pass\n",
        "\n",
        "    def call(self, inputs):\n",
        "        #TODO\n",
        "        return inputs\n",
        "\n",
        "class CustomDenseSoftmaxLayer(tf.keras.layers.Layer):\n",
        "    def __init__(self, units):\n",
        "        super(CustomDenseSoftmaxLayer, self).__init__()\n",
        "        #TODO\n",
        "\n",
        "    def build(self, input_shape):\n",
        "        #TODO\n",
        "        pass\n",
        "\n",
        "    def call(self, inputs):\n",
        "        #TODO\n",
        "        return inputs\n",
        "    \n",
        "class CustomFlattenLayer(tf.keras.layers.Layer):\n",
        "    def call(self, inputs):\n",
        "        #TODO\n",
        "        return inputs"
      ]
    },
    {
      "cell_type": "code",
      "execution_count": 11,
      "metadata": {
        "colab": {
          "base_uri": "https://localhost:8080/"
        },
        "id": "nR9w-myw_K_H",
        "outputId": "431b8def-da09-4415-e861-a5f6790be166"
      },
      "outputs": [],
      "source": [
        "class CustomDenseReluLayer(tf.keras.layers.Layer):\n",
        "    def __init__(self, units):\n",
        "        super(CustomDenseReluLayer, self).__init__()\n",
        "        self.units = units\n",
        "\n",
        "    def build(self, input_shape):\n",
        "        self.w = self.add_weight(shape=(input_shape[-1], self.units),initializer='random_normal',trainable=True)\n",
        "        self.b = self.add_weight(shape=(self.units,),initializer='zeros',trainable=True)\n",
        "\n",
        "    def call(self, inputs):\n",
        "        z = tf.matmul(inputs, self.w) + self.b\n",
        "        z = tf.nn.relu(z)\n",
        "        return z\n",
        "\n",
        "class CustomDenseSoftmaxLayer(tf.keras.layers.Layer):\n",
        "    def __init__(self, units):\n",
        "        super(CustomDenseSoftmaxLayer, self).__init__()\n",
        "        self.units = units\n",
        "\n",
        "    def build(self, input_shape):\n",
        "        self.w = self.add_weight(shape=(input_shape[-1], self.units),initializer='random_normal',trainable=True)\n",
        "        self.b = self.add_weight(shape=(self.units,),initializer='zeros',trainable=True)\n",
        "\n",
        "    def call(self, inputs):\n",
        "        z = tf.matmul(inputs, self.w) + self.b\n",
        "        z = tf.nn.softmax(z)\n",
        "        return z\n",
        "\n",
        "class CustomFlattenLayer(tf.keras.layers.Layer):\n",
        "    def call(self, inputs):\n",
        "        return tf.reshape(inputs, (tf.shape(inputs)[0], -1))\n",
        "\n"
      ]
    },
    {
      "cell_type": "markdown",
      "metadata": {
        "id": "dCEMWK1KLZDT"
      },
      "source": [
        "## Using out custom layers to Build a model for MNIST"
      ]
    },
    {
      "cell_type": "code",
      "execution_count": 12,
      "metadata": {
        "id": "zw53cAmELYJK"
      },
      "outputs": [
        {
          "name": "stdout",
          "output_type": "stream",
          "text": [
            "Epoch 1/5\n",
            "WARNING:tensorflow:From c:\\Users\\shaas\\tf_env\\Lib\\site-packages\\keras\\src\\backend\\tensorflow\\core.py:222: The name tf.placeholder is deprecated. Please use tf.compat.v1.placeholder instead.\n",
            "\n",
            "\u001b[1m1500/1500\u001b[0m \u001b[32m━━━━━━━━━━━━━━━━━━━━\u001b[0m\u001b[37m\u001b[0m \u001b[1m3s\u001b[0m 2ms/step - accuracy: 0.8552 - loss: 0.5404 - val_accuracy: 0.9500 - val_loss: 0.1730\n",
            "Epoch 2/5\n",
            "\u001b[1m1500/1500\u001b[0m \u001b[32m━━━━━━━━━━━━━━━━━━━━\u001b[0m\u001b[37m\u001b[0m \u001b[1m2s\u001b[0m 1ms/step - accuracy: 0.9561 - loss: 0.1470 - val_accuracy: 0.9645 - val_loss: 0.1211\n",
            "Epoch 3/5\n",
            "\u001b[1m1500/1500\u001b[0m \u001b[32m━━━━━━━━━━━━━━━━━━━━\u001b[0m\u001b[37m\u001b[0m \u001b[1m2s\u001b[0m 2ms/step - accuracy: 0.9732 - loss: 0.0940 - val_accuracy: 0.9718 - val_loss: 0.0992\n",
            "Epoch 4/5\n",
            "\u001b[1m1500/1500\u001b[0m \u001b[32m━━━━━━━━━━━━━━━━━━━━\u001b[0m\u001b[37m\u001b[0m \u001b[1m2s\u001b[0m 1ms/step - accuracy: 0.9789 - loss: 0.0686 - val_accuracy: 0.9655 - val_loss: 0.1120\n",
            "Epoch 5/5\n",
            "\u001b[1m1500/1500\u001b[0m \u001b[32m━━━━━━━━━━━━━━━━━━━━\u001b[0m\u001b[37m\u001b[0m \u001b[1m2s\u001b[0m 1ms/step - accuracy: 0.9844 - loss: 0.0521 - val_accuracy: 0.9728 - val_loss: 0.0882\n",
            "\u001b[1m313/313\u001b[0m \u001b[32m━━━━━━━━━━━━━━━━━━━━\u001b[0m\u001b[37m\u001b[0m \u001b[1m0s\u001b[0m 955us/step - accuracy: 0.9730 - loss: 0.0888\n",
            "Test accuracy: 0.9763000011444092\n"
          ]
        }
      ],
      "source": [
        "# Example usage of the custom dense layer\n",
        "model = Sequential([\n",
        "    CustomFlattenLayer(),\n",
        "    CustomDenseReluLayer(128),\n",
        "    CustomDenseSoftmaxLayer(10)\n",
        "])\n",
        "\n",
        "# Compile the model\n",
        "model.compile(optimizer='adam', loss='categorical_crossentropy', metrics=['accuracy'])\n",
        "\n",
        "# Train the model\n",
        "model.fit(x_train, y_train, epochs=5, batch_size=32, validation_split=0.2)\n",
        "\n",
        "# Evaluate the model\n",
        "test_loss, test_acc = model.evaluate(x_test, y_test)\n",
        "print(f'Test accuracy: {test_acc}')"
      ]
    },
    {
      "cell_type": "markdown",
      "metadata": {
        "id": "K_ymh-5LLyMY"
      },
      "source": [
        "# Assignment\n",
        "* Load and preprocess Boston housing dataset\n",
        "* build a Linear Regression model for it and optimize it using tensorflow (its basically a neural network with a single neuron and no activaton)\n",
        "* build a Feedforward network for it you can expirement around with no of layers and and neurons in each layer and different activation functions <br/>\n",
        "\n",
        "\n",
        "\n"
      ]
    },
    {
      "cell_type": "markdown",
      "metadata": {},
      "source": [
        "# Bonus Assignment \n",
        "* Try solving one more random dataset from kaggle/tensorflow datasets"
      ]
    },
    {
      "cell_type": "code",
      "execution_count": null,
      "metadata": {},
      "outputs": [],
      "source": []
    },
    {
      "cell_type": "code",
      "execution_count": 22,
      "metadata": {
        "colab": {
          "base_uri": "https://localhost:8080/"
        },
        "id": "Cuyf9f0TE7wX",
        "outputId": "a6cc4902-f834-4991-9ae7-0023b25c115a"
      },
      "outputs": [],
      "source": []
    }
  ],
  "metadata": {
    "colab": {
      "name": "Welcome To Colab",
      "provenance": [],
      "toc_visible": true
    },
    "kernelspec": {
      "display_name": "tf_env",
      "language": "python",
      "name": "python3"
    },
    "language_info": {
      "codemirror_mode": {
        "name": "ipython",
        "version": 3
      },
      "file_extension": ".py",
      "mimetype": "text/x-python",
      "name": "python",
      "nbconvert_exporter": "python",
      "pygments_lexer": "ipython3",
      "version": "3.12.8"
    }
  },
  "nbformat": 4,
  "nbformat_minor": 0
}
